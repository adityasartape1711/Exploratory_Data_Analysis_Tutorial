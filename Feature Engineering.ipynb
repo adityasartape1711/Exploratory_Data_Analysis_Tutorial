{
 "cells": [
  {
   "cell_type": "markdown",
   "id": "8f574161",
   "metadata": {},
   "source": [
    "# Creating new features"
   ]
  },
  {
   "cell_type": "code",
   "execution_count": null,
   "id": "886e2d6e",
   "metadata": {},
   "outputs": [],
   "source": [
    "# Example: Create ratio feature\n",
    "df['ratio_feature'] = df['feature1'] / df['feature2']\n",
    "\n",
    "# Example: Create interaction feature\n",
    "df['interaction_feature'] = df['feature1'] * df['feature2']"
   ]
  },
  {
   "cell_type": "markdown",
   "id": "ed162a5b",
   "metadata": {},
   "source": [
    "# Feature binning (discretization)"
   ]
  },
  {
   "cell_type": "code",
   "execution_count": null,
   "id": "3a5db88c",
   "metadata": {},
   "outputs": [],
   "source": [
    "# Equal-width binning\n",
    "df['binned_feature'] = pd.cut(df['numeric_feature'], bins=5)\n",
    "\n",
    "# Equal-frequency binning\n",
    "df['binned_feature'] = pd.qcut(df['numeric_feature'], q=5)\n",
    "\n",
    "# Custom binning\n",
    "bins = [0, 10, 20, 50, 100]\n",
    "labels = ['0-10', '10-20', '20-50', '50-100']\n",
    "df['binned_feature'] = pd.cut(df['numeric_feature'], bins=bins, labels=labels)"
   ]
  },
  {
   "cell_type": "markdown",
   "id": "392ae6d3",
   "metadata": {},
   "source": [
    "# Encoding categorical variables"
   ]
  },
  {
   "cell_type": "code",
   "execution_count": null,
   "id": "9040085b",
   "metadata": {},
   "outputs": [],
   "source": [
    "# One-hot encoding\n",
    "df_encoded = pd.get_dummies(df, columns=['category_column'])\n",
    "\n",
    "# Label encoding\n",
    "from sklearn.preprocessing import LabelEncoder\n",
    "le = LabelEncoder()\n",
    "df['encoded_column'] = le.fit_transform(df['category_column'])"
   ]
  },
  {
   "cell_type": "markdown",
   "id": "bcc00da7",
   "metadata": {},
   "source": [
    "# Date-time feature extraction"
   ]
  },
  {
   "cell_type": "code",
   "execution_count": null,
   "id": "c55a54f7",
   "metadata": {},
   "outputs": [],
   "source": [
    "df['year'] = df['date_column'].dt.year\n",
    "df['month'] = df['date_column'].dt.month\n",
    "df['day'] = df['date_column'].dt.day\n",
    "df['dayofweek'] = df['date_column'].dt.dayofweek\n",
    "df['is_weekend'] = df['date_column'].dt.dayofweek >= 5"
   ]
  }
 ],
 "metadata": {
  "kernelspec": {
   "display_name": "Python 3 (ipykernel)",
   "language": "python",
   "name": "python3"
  },
  "language_info": {
   "codemirror_mode": {
    "name": "ipython",
    "version": 3
   },
   "file_extension": ".py",
   "mimetype": "text/x-python",
   "name": "python",
   "nbconvert_exporter": "python",
   "pygments_lexer": "ipython3",
   "version": "3.10.7"
  }
 },
 "nbformat": 4,
 "nbformat_minor": 5
}
