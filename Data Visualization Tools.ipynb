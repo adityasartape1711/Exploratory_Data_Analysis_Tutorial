{
 "cells": [
  {
   "cell_type": "markdown",
   "id": "ad8a2272",
   "metadata": {},
   "source": [
    "# Matplotlib"
   ]
  },
  {
   "cell_type": "code",
   "execution_count": null,
   "id": "d91f45ef",
   "metadata": {},
   "outputs": [],
   "source": [
    "import matplotlib.pyplot as plt\n",
    "\n",
    "# Line plot\n",
    "plt.plot(df['x_column'], df['y_column'])\n",
    "plt.title('Line Plot')\n",
    "plt.xlabel('X Axis')\n",
    "plt.ylabel('Y Axis')\n",
    "plt.show()\n",
    "\n",
    "# Scatter plot\n",
    "plt.scatter(df['x_column'], df['y_column'])\n",
    "plt.title('Scatter Plot')\n",
    "plt.show()\n",
    "\n",
    "# Histogram\n",
    "plt.hist(df['numeric_column'], bins=20)\n",
    "plt.title('Histogram')\n",
    "plt.show()"
   ]
  },
  {
   "cell_type": "markdown",
   "id": "babad0cd",
   "metadata": {},
   "source": [
    "# Seaborn"
   ]
  },
  {
   "cell_type": "code",
   "execution_count": null,
   "id": "ac1d3d9d",
   "metadata": {},
   "outputs": [],
   "source": [
    "import seaborn as sns\n",
    "\n",
    "# Distribution plot\n",
    "sns.displot(df['numeric_column'], kde=True)\n",
    "plt.title('Distribution Plot')\n",
    "plt.show()\n",
    "\n",
    "# Boxplot\n",
    "sns.boxplot(x='category_column', y='numeric_column', data=df)\n",
    "plt.title('Boxplot')\n",
    "plt.show()\n",
    "\n",
    "# Heatmap\n",
    "corr = df.corr()\n",
    "sns.heatmap(corr, annot=True, cmap='coolwarm')\n",
    "plt.title('Correlation Heatmap')\n",
    "plt.show()"
   ]
  },
  {
   "cell_type": "markdown",
   "id": "cdcce4d4",
   "metadata": {},
   "source": [
    "# Plotly"
   ]
  },
  {
   "cell_type": "code",
   "execution_count": null,
   "id": "7417b56c",
   "metadata": {},
   "outputs": [],
   "source": [
    "import plotly.express as px\n",
    "\n",
    "# Interactive scatter plot\n",
    "fig = px.scatter(df, x='x_column', y='y_column', color='category_column')\n",
    "fig.show()\n",
    "\n",
    "# Interactive histogram\n",
    "fig = px.histogram(df, x='numeric_column', nbins=20)\n",
    "fig.show()\n",
    "\n",
    "# Interactive boxplot\n",
    "fig = px.box(df, x='category_column', y='numeric_column')\n",
    "fig.show()"
   ]
  },
  {
   "cell_type": "markdown",
   "id": "126c6064",
   "metadata": {},
   "source": [
    "# Pandas built-in plotting"
   ]
  },
  {
   "cell_type": "code",
   "execution_count": null,
   "id": "471fddb1",
   "metadata": {},
   "outputs": [],
   "source": [
    "# Line plot\n",
    "df.plot(x='date_column', y='numeric_column')\n",
    "\n",
    "# Bar plot\n",
    "df['category_column'].value_counts().plot(kind='bar')\n",
    "\n",
    "# Histogram\n",
    "df['numeric_column'].plot(kind='hist', bins=20)"
   ]
  }
 ],
 "metadata": {
  "kernelspec": {
   "display_name": "Python 3 (ipykernel)",
   "language": "python",
   "name": "python3"
  },
  "language_info": {
   "codemirror_mode": {
    "name": "ipython",
    "version": 3
   },
   "file_extension": ".py",
   "mimetype": "text/x-python",
   "name": "python",
   "nbconvert_exporter": "python",
   "pygments_lexer": "ipython3",
   "version": "3.10.7"
  }
 },
 "nbformat": 4,
 "nbformat_minor": 5
}
