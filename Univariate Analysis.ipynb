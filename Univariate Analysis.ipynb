{
 "cells": [
  {
   "cell_type": "markdown",
   "id": "a52c7ebf",
   "metadata": {},
   "source": [
    "# Summary statistics"
   ]
  },
  {
   "cell_type": "code",
   "execution_count": null,
   "id": "b87febf0",
   "metadata": {},
   "outputs": [],
   "source": [
    "# For numerical columns\n",
    "print(df.describe())\n",
    "\n",
    "# For categorical columns\n",
    "print(df['category_column'].value_counts())\n",
    "print(df['category_column'].value_counts(normalize=True))  # Proportions"
   ]
  },
  {
   "cell_type": "markdown",
   "id": "a00a45f2",
   "metadata": {},
   "source": [
    "# Distribution of numerical data"
   ]
  },
  {
   "cell_type": "code",
   "execution_count": null,
   "id": "1b7437ba",
   "metadata": {},
   "outputs": [],
   "source": [
    "import matplotlib.pyplot as plt\n",
    "import seaborn as sns\n",
    "\n",
    "# Histogram\n",
    "plt.figure(figsize=(8, 6))\n",
    "sns.histplot(df['numeric_column'], kde=True)\n",
    "plt.title('Distribution of Numeric Column')\n",
    "plt.show()\n",
    "\n",
    "# KDE plot\n",
    "plt.figure(figsize=(8, 6))\n",
    "sns.kdeplot(df['numeric_column'])\n",
    "plt.title('KDE Plot of Numeric Column')\n",
    "plt.show()"
   ]
  },
  {
   "cell_type": "markdown",
   "id": "124af15f",
   "metadata": {},
   "source": [
    "# Frequency distribution for categorical data"
   ]
  },
  {
   "cell_type": "code",
   "execution_count": null,
   "id": "62841e1d",
   "metadata": {},
   "outputs": [],
   "source": [
    "# Bar plot\n",
    "plt.figure(figsize=(8, 6))\n",
    "df['category_column'].value_counts().plot(kind='bar')\n",
    "plt.title('Frequency Distribution of Categories')\n",
    "plt.show()\n",
    "\n",
    "# Pie chart\n",
    "plt.figure(figsize=(8, 6))\n",
    "df['category_column'].value_counts().plot(kind='pie', autopct='%1.1f%%')\n",
    "plt.title('Category Proportions')\n",
    "plt.show()"
   ]
  },
  {
   "cell_type": "markdown",
   "id": "01d9ee2d",
   "metadata": {},
   "source": [
    "# Boxplots and Violin plots"
   ]
  },
  {
   "cell_type": "code",
   "execution_count": null,
   "id": "5fdfa2ec",
   "metadata": {},
   "outputs": [],
   "source": [
    "# Boxplot\n",
    "plt.figure(figsize=(8, 6))\n",
    "sns.boxplot(x=df['numeric_column'])\n",
    "plt.title('Boxplot of Numeric Column')\n",
    "plt.show()\n",
    "\n",
    "# Violin plot\n",
    "plt.figure(figsize=(8, 6))\n",
    "sns.violinplot(x=df['numeric_column'])\n",
    "plt.title('Violin Plot of Numeric Column')\n",
    "plt.show()"
   ]
  }
 ],
 "metadata": {
  "kernelspec": {
   "display_name": "Python 3 (ipykernel)",
   "language": "python",
   "name": "python3"
  },
  "language_info": {
   "codemirror_mode": {
    "name": "ipython",
    "version": 3
   },
   "file_extension": ".py",
   "mimetype": "text/x-python",
   "name": "python",
   "nbconvert_exporter": "python",
   "pygments_lexer": "ipython3",
   "version": "3.10.7"
  }
 },
 "nbformat": 4,
 "nbformat_minor": 5
}
