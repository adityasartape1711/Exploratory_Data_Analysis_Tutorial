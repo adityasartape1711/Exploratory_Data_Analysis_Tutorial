{
 "cells": [
  {
   "cell_type": "markdown",
   "id": "4b18b0fb",
   "metadata": {},
   "source": [
    "# Handling missing values"
   ]
  },
  {
   "cell_type": "code",
   "execution_count": null,
   "id": "b6a69bcc",
   "metadata": {},
   "outputs": [],
   "source": [
    "# Check for missing values\n",
    "print(df.isnull().sum())\n",
    "\n",
    "# Drop rows with missing values\n",
    "df_clean = df.dropna()\n",
    "\n",
    "# Fill missing values\n",
    "df_filled = df.fillna(0)  # With zero\n",
    "df_filled = df.fillna(df.mean())  # With mean\n",
    "df_filled = df.fillna(df.median())  # With median\n",
    "df_filled = df.fillna(df.mode().iloc[0])  # With mode\n",
    "\n",
    "# Advanced imputation\n",
    "from sklearn.impute import SimpleImputer\n",
    "imputer = SimpleImputer(strategy='mean')\n",
    "df_imputed = pd.DataFrame(imputer.fit_transform(df), columns=df.columns)"
   ]
  },
  {
   "cell_type": "markdown",
   "id": "900154cd",
   "metadata": {},
   "source": [
    "# Handling duplicate data"
   ]
  },
  {
   "cell_type": "code",
   "execution_count": null,
   "id": "3ed45e03",
   "metadata": {},
   "outputs": [],
   "source": [
    "# Check for duplicates\n",
    "print(df.duplicated().sum())\n",
    "\n",
    "# Drop duplicates\n",
    "df_unique = df.drop_duplicates()\n",
    "\n",
    "# Drop duplicates based on specific columns\n",
    "df_unique = df.drop_duplicates(subset=['col1', 'col2'])"
   ]
  },
  {
   "cell_type": "markdown",
   "id": "9c205ce6",
   "metadata": {},
   "source": [
    "# Detecting and correcting inconsistencies"
   ]
  },
  {
   "cell_type": "code",
   "execution_count": null,
   "id": "d0c33193",
   "metadata": {},
   "outputs": [],
   "source": [
    "# Check unique values in categorical columns\n",
    "print(df['category_column'].unique())\n",
    "\n",
    "# Standardize categories\n",
    "df['category_column'] = df['category_column'].str.lower().str.strip()\n",
    "\n",
    "# Correct inconsistent numerical values\n",
    "df['numeric_column'] = pd.to_numeric(df['numeric_column'], errors='coerce')"
   ]
  },
  {
   "cell_type": "markdown",
   "id": "90ebc67d",
   "metadata": {},
   "source": [
    "# Type conversions"
   ]
  },
  {
   "cell_type": "code",
   "execution_count": null,
   "id": "b07e7d6d",
   "metadata": {},
   "outputs": [],
   "source": [
    "# Convert to categorical\n",
    "df['category_column'] = df['category_column'].astype('category')\n",
    "\n",
    "# Convert to datetime\n",
    "df['date_column'] = pd.to_datetime(df['date_column'])\n",
    "\n",
    "# Convert to numeric\n",
    "df['numeric_column'] = pd.to_numeric(df['numeric_column'])"
   ]
  }
 ],
 "metadata": {
  "kernelspec": {
   "display_name": "Python 3 (ipykernel)",
   "language": "python",
   "name": "python3"
  },
  "language_info": {
   "codemirror_mode": {
    "name": "ipython",
    "version": 3
   },
   "file_extension": ".py",
   "mimetype": "text/x-python",
   "name": "python",
   "nbconvert_exporter": "python",
   "pygments_lexer": "ipython3",
   "version": "3.10.7"
  }
 },
 "nbformat": 4,
 "nbformat_minor": 5
}
