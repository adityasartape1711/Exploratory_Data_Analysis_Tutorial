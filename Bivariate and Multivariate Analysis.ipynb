{
 "cells": [
  {
   "cell_type": "markdown",
   "id": "28461031",
   "metadata": {},
   "source": [
    "# Numerical vs Numerical"
   ]
  },
  {
   "cell_type": "code",
   "execution_count": null,
   "id": "a280f477",
   "metadata": {},
   "outputs": [],
   "source": [
    "# Scatter plot\n",
    "plt.figure(figsize=(8, 6))\n",
    "sns.scatterplot(x='num_col1', y='num_col2', data=df)\n",
    "plt.title('Scatter Plot of Numerical Columns')\n",
    "plt.show()\n",
    "\n",
    "# Correlation heatmap\n",
    "plt.figure(figsize=(8, 6))\n",
    "corr = df.select_dtypes(include=['float64', 'int64']).corr()\n",
    "sns.heatmap(corr, annot=True, cmap='coolwarm')\n",
    "plt.title('Correlation Heatmap')\n",
    "plt.show()\n",
    "\n",
    "# Pairplot\n",
    "sns.pairplot(df.select_dtypes(include=['float64', 'int64']))\n",
    "plt.show()"
   ]
  },
  {
   "cell_type": "markdown",
   "id": "1817b08d",
   "metadata": {},
   "source": [
    "# Categorical vs Numerical"
   ]
  },
  {
   "cell_type": "code",
   "execution_count": null,
   "id": "930f3401",
   "metadata": {},
   "outputs": [],
   "source": [
    "# Box plot\n",
    "plt.figure(figsize=(10, 6))\n",
    "sns.boxplot(x='category_column', y='numeric_column', data=df)\n",
    "plt.title('Box Plot of Numerical by Category')\n",
    "plt.show()\n",
    "\n",
    "# Violin plot\n",
    "plt.figure(figsize=(10, 6))\n",
    "sns.violinplot(x='category_column', y='numeric_column', data=df)\n",
    "plt.title('Violin Plot of Numerical by Category')\n",
    "plt.show()\n",
    "\n",
    "# Bar plot of means\n",
    "plt.figure(figsize=(10, 6))\n",
    "df.groupby('category_column')['numeric_column'].mean().plot(kind='bar')\n",
    "plt.title('Mean of Numerical Column by Category')\n",
    "plt.show()"
   ]
  },
  {
   "cell_type": "markdown",
   "id": "81a0993c",
   "metadata": {},
   "source": [
    "# Categorical vs Categorical"
   ]
  },
  {
   "cell_type": "code",
   "execution_count": null,
   "id": "fa2f45f3",
   "metadata": {},
   "outputs": [],
   "source": [
    "# Crosstab\n",
    "ct = pd.crosstab(df['cat_col1'], df['cat_col2'])\n",
    "print(ct)\n",
    "\n",
    "# Stacked bar chart\n",
    "ct.plot(kind='bar', stacked=True, figsize=(10, 6))\n",
    "plt.title('Stacked Bar Chart of Categorical Variables')\n",
    "plt.show()\n",
    "\n",
    "# Grouped bar plot\n",
    "ct.plot(kind='bar', figsize=(10, 6))\n",
    "plt.title('Grouped Bar Plot of Categorical Variables')\n",
    "plt.show()"
   ]
  }
 ],
 "metadata": {
  "kernelspec": {
   "display_name": "Python 3 (ipykernel)",
   "language": "python",
   "name": "python3"
  },
  "language_info": {
   "codemirror_mode": {
    "name": "ipython",
    "version": 3
   },
   "file_extension": ".py",
   "mimetype": "text/x-python",
   "name": "python",
   "nbconvert_exporter": "python",
   "pygments_lexer": "ipython3",
   "version": "3.10.7"
  }
 },
 "nbformat": 4,
 "nbformat_minor": 5
}
