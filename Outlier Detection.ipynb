{
 "cells": [
  {
   "cell_type": "markdown",
   "id": "bb27f579",
   "metadata": {},
   "source": [
    "# Identifying outliers"
   ]
  },
  {
   "cell_type": "code",
   "execution_count": null,
   "id": "8124d17f",
   "metadata": {},
   "outputs": [],
   "source": [
    "# Z-score method\n",
    "from scipy import stats\n",
    "import numpy as np\n",
    "\n",
    "z_scores = np.abs(stats.zscore(df.select_dtypes(include=['float64', 'int64'])))\n",
    "outliers = (z_scores > 3).any(axis=1)\n",
    "print(f\"Number of outliers (Z-score > 3): {outliers.sum()}\")\n",
    "\n",
    "# IQR method\n",
    "Q1 = df.quantile(0.25)\n",
    "Q3 = df.quantile(0.75)\n",
    "IQR = Q3 - Q1\n",
    "outliers_iqr = ((df < (Q1 - 1.5 * IQR)) | (df > (Q3 + 1.5 * IQR))).any(axis=1)\n",
    "print(f\"Number of outliers (IQR method): {outliers_iqr.sum()}\")"
   ]
  },
  {
   "cell_type": "markdown",
   "id": "054664c4",
   "metadata": {},
   "source": [
    "# Boxplot visualization"
   ]
  },
  {
   "cell_type": "code",
   "execution_count": null,
   "id": "ca81ff28",
   "metadata": {},
   "outputs": [],
   "source": [
    "plt.figure(figsize=(12, 6))\n",
    "sns.boxplot(data=df.select_dtypes(include=['float64', 'int64']))\n",
    "plt.title('Boxplot for Outlier Detection')\n",
    "plt.xticks(rotation=45)\n",
    "plt.show()"
   ]
  },
  {
   "cell_type": "markdown",
   "id": "f213b8c6",
   "metadata": {},
   "source": [
    "# Handling outliers"
   ]
  },
  {
   "cell_type": "code",
   "execution_count": null,
   "id": "8a8e1806",
   "metadata": {},
   "outputs": [],
   "source": [
    "# Option 1: Remove outliers\n",
    "df_no_outliers = df[~outliers]\n",
    "\n",
    "# Option 2: Cap outliers\n",
    "for col in df.select_dtypes(include=['float64', 'int64']).columns:\n",
    "    upper_limit = df[col].mean() + 3*df[col].std()\n",
    "    lower_limit = df[col].mean() - 3*df[col].std()\n",
    "    df[col] = np.where(df[col] > upper_limit, upper_limit,\n",
    "                      np.where(df[col] < lower_limit, lower_limit, df[col]))"
   ]
  }
 ],
 "metadata": {
  "kernelspec": {
   "display_name": "Python 3 (ipykernel)",
   "language": "python",
   "name": "python3"
  },
  "language_info": {
   "codemirror_mode": {
    "name": "ipython",
    "version": 3
   },
   "file_extension": ".py",
   "mimetype": "text/x-python",
   "name": "python",
   "nbconvert_exporter": "python",
   "pygments_lexer": "ipython3",
   "version": "3.10.7"
  }
 },
 "nbformat": 4,
 "nbformat_minor": 5
}
