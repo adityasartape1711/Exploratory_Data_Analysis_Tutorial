{
 "cells": [
  {
   "cell_type": "markdown",
   "id": "c341c644",
   "metadata": {},
   "source": [
    "# Pearson/Spearman correlation"
   ]
  },
  {
   "cell_type": "code",
   "execution_count": null,
   "id": "3c806eab",
   "metadata": {},
   "outputs": [],
   "source": [
    "# Pearson correlation (linear relationships)\n",
    "pearson_corr = df.corr(method='pearson')\n",
    "print(\"Pearson Correlation:\")\n",
    "print(pearson_corr)\n",
    "\n",
    "# Spearman correlation (monotonic relationships)\n",
    "spearman_corr = df.corr(method='spearman')\n",
    "print(\"\\nSpearman Correlation:\")\n",
    "print(spearman_corr)"
   ]
  },
  {
   "cell_type": "markdown",
   "id": "1e72683e",
   "metadata": {},
   "source": [
    "# Heatmaps and pairplots"
   ]
  },
  {
   "cell_type": "code",
   "execution_count": null,
   "id": "fa93fe33",
   "metadata": {},
   "outputs": [],
   "source": [
    "# Heatmap\n",
    "plt.figure(figsize=(10, 8))\n",
    "sns.heatmap(df.corr(), annot=True, cmap='coolwarm', center=0)\n",
    "plt.title('Correlation Heatmap')\n",
    "plt.show()\n",
    "\n",
    "# Pairplot\n",
    "sns.pairplot(df)\n",
    "plt.show()"
   ]
  },
  {
   "cell_type": "markdown",
   "id": "ff7f8b17",
   "metadata": {},
   "source": [
    "# Identifying strong relationships"
   ]
  },
  {
   "cell_type": "code",
   "execution_count": null,
   "id": "c7035e96",
   "metadata": {},
   "outputs": [],
   "source": [
    "# Find highly correlated features\n",
    "corr_matrix = df.corr().abs()\n",
    "upper = corr_matrix.where(np.triu(np.ones(corr_matrix.shape), k=1).astype(bool))\n",
    "high_corr = [column for column in upper.columns if any(upper[column] > 0.7)]\n",
    "print(f\"Highly correlated features: {high_corr}\")"
   ]
  }
 ],
 "metadata": {
  "kernelspec": {
   "display_name": "Python 3 (ipykernel)",
   "language": "python",
   "name": "python3"
  },
  "language_info": {
   "codemirror_mode": {
    "name": "ipython",
    "version": 3
   },
   "file_extension": ".py",
   "mimetype": "text/x-python",
   "name": "python",
   "nbconvert_exporter": "python",
   "pygments_lexer": "ipython3",
   "version": "3.10.7"
  }
 },
 "nbformat": 4,
 "nbformat_minor": 5
}
