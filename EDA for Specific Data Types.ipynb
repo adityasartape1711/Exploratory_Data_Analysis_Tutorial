{
 "cells": [
  {
   "cell_type": "markdown",
   "id": "87b8a708",
   "metadata": {},
   "source": [
    "# Time-Series Data"
   ]
  },
  {
   "cell_type": "code",
   "execution_count": null,
   "id": "4541580f",
   "metadata": {},
   "outputs": [],
   "source": [
    "# Line plot\n",
    "plt.figure(figsize=(12, 6))\n",
    "plt.plot(df['date_column'], df['value_column'])\n",
    "plt.title('Time Series Plot')\n",
    "plt.xlabel('Date')\n",
    "plt.ylabel('Value')\n",
    "plt.show()\n",
    "\n",
    "# Rolling average\n",
    "df['rolling_avg'] = df['value_column'].rolling(window=7).mean()\n",
    "plt.figure(figsize=(12, 6))\n",
    "plt.plot(df['date_column'], df['value_column'], label='Original')\n",
    "plt.plot(df['date_column'], df['rolling_avg'], label='7-day Rolling Avg')\n",
    "plt.legend()\n",
    "plt.show()\n",
    "\n",
    "# Decomposition\n",
    "from statsmodels.tsa.seasonal import seasonal_decompose\n",
    "result = seasonal_decompose(df.set_index('date_column')['value_column'], model='additive', period=12)\n",
    "result.plot()\n",
    "plt.show()"
   ]
  },
  {
   "cell_type": "markdown",
   "id": "d8aeda85",
   "metadata": {},
   "source": [
    "# Text Data"
   ]
  },
  {
   "cell_type": "code",
   "execution_count": null,
   "id": "8839fb98",
   "metadata": {},
   "outputs": [],
   "source": [
    "from wordcloud import WordCloud\n",
    "from collections import Counter\n",
    "\n",
    "# Word frequency\n",
    "text = ' '.join(df['text_column'])\n",
    "words = text.split()\n",
    "word_freq = Counter(words)\n",
    "print(word_freq.most_common(10))\n",
    "\n",
    "# Word cloud\n",
    "wordcloud = WordCloud(width=800, height=400).generate(text)\n",
    "plt.figure(figsize=(10, 5))\n",
    "plt.imshow(wordcloud, interpolation='bilinear')\n",
    "plt.axis('off')\n",
    "plt.show()\n",
    "\n",
    "# Text length analysis\n",
    "df['text_length'] = df['text_column'].str.len()\n",
    "plt.figure(figsize=(8, 6))\n",
    "sns.histplot(df['text_length'])\n",
    "plt.title('Distribution of Text Lengths')\n",
    "plt.show()"
   ]
  },
  {
   "cell_type": "markdown",
   "id": "f62e82f5",
   "metadata": {},
   "source": [
    "# Image Data"
   ]
  },
  {
   "cell_type": "code",
   "execution_count": null,
   "id": "a4776a6c",
   "metadata": {},
   "outputs": [],
   "source": [
    "import cv2\n",
    "import matplotlib.pyplot as plt\n",
    "\n",
    "# Load and display image\n",
    "img = cv2.imread('image.jpg')\n",
    "img = cv2.cvtColor(img, cv2.COLOR_BGR2RGB)\n",
    "plt.imshow(img)\n",
    "plt.axis('off')\n",
    "plt.show()\n",
    "\n",
    "# Pixel distribution\n",
    "plt.figure(figsize=(10, 5))\n",
    "plt.subplot(1, 3, 1)\n",
    "plt.hist(img[:,:,0].ravel(), bins=256, color='red', alpha=0.7)\n",
    "plt.title('Red Channel')\n",
    "plt.subplot(1, 3, 2)\n",
    "plt.hist(img[:,:,1].ravel(), bins=256, color='green', alpha=0.7)\n",
    "plt.title('Green Channel')\n",
    "plt.subplot(1, 3, 3)\n",
    "plt.hist(img[:,:,2].ravel(), bins=256, color='blue', alpha=0.7)\n",
    "plt.title('Blue Channel')\n",
    "plt.tight_layout()\n",
    "plt.show()\n",
    "\n",
    "# Image size and shape\n",
    "print(f\"Image shape: {img.shape}\")  # (height, width, channels)\n",
    "print(f\"Image size: {img.size} bytes\")\n",
    "print(f\"Image dtype: {img.dtype}\")"
   ]
  },
  {
   "cell_type": "code",
   "execution_count": null,
   "id": "0d42b318",
   "metadata": {},
   "outputs": [],
   "source": []
  }
 ],
 "metadata": {
  "kernelspec": {
   "display_name": "Python 3 (ipykernel)",
   "language": "python",
   "name": "python3"
  },
  "language_info": {
   "codemirror_mode": {
    "name": "ipython",
    "version": 3
   },
   "file_extension": ".py",
   "mimetype": "text/x-python",
   "name": "python",
   "nbconvert_exporter": "python",
   "pygments_lexer": "ipython3",
   "version": "3.10.7"
  }
 },
 "nbformat": 4,
 "nbformat_minor": 5
}
