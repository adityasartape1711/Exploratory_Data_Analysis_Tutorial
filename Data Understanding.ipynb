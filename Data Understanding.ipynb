{
 "cells": [
  {
   "cell_type": "markdown",
   "id": "b0d3cd71",
   "metadata": {},
   "source": [
    "# Loading datasets"
   ]
  },
  {
   "cell_type": "code",
   "execution_count": null,
   "id": "ddb72082",
   "metadata": {},
   "outputs": [],
   "source": [
    "import pandas as pd\n",
    "\n",
    "# From CSV\n",
    "df = pd.read_csv('data.csv')\n",
    "\n",
    "# From Excel\n",
    "df = pd.read_excel('data.xlsx')\n",
    "\n",
    "# From SQL\n",
    "import sqlite3\n",
    "conn = sqlite3.connect('database.db')\n",
    "df = pd.read_sql_query('SELECT * FROM table', conn)"
   ]
  },
  {
   "cell_type": "markdown",
   "id": "d191db34",
   "metadata": {},
   "source": [
    "# Viewing structure"
   ]
  },
  {
   "cell_type": "code",
   "execution_count": null,
   "id": "7b38297b",
   "metadata": {},
   "outputs": [],
   "source": [
    "# First 5 rows\n",
    "print(df.head())\n",
    "\n",
    "# Last 5 rows\n",
    "print(df.tail())\n",
    "\n",
    "# Information about columns and data types\n",
    "print(df.info())\n",
    "\n",
    "# Statistical summary\n",
    "print(df.describe())\n",
    "\n",
    "# For categorical data\n",
    "print(df.describe(include=['object']))"
   ]
  },
  {
   "cell_type": "markdown",
   "id": "f621b542",
   "metadata": {},
   "source": [
    "# Checking data types"
   ]
  },
  {
   "cell_type": "code",
   "execution_count": null,
   "id": "215c9525",
   "metadata": {},
   "outputs": [],
   "source": [
    "print(df.dtypes)  # Data types of each column\n",
    "print(df.select_dtypes(include=['int64', 'float64']))  # Only numerical columns\n",
    "print(df.select_dtypes(include=['object']))  # Only categorical columns"
   ]
  },
  {
   "cell_type": "markdown",
   "id": "a0cf5281",
   "metadata": {},
   "source": [
    "# Understanding shape and size"
   ]
  },
  {
   "cell_type": "code",
   "execution_count": null,
   "id": "c64beb26",
   "metadata": {},
   "outputs": [],
   "source": [
    "print(f\"Shape: {df.shape}\")  # (rows, columns)\n",
    "print(f\"Size: {df.size}\")     # Total number of elements\n",
    "print(f\"Memory usage:\\n{df.memory_usage()}\")  # Memory used by each column"
   ]
  }
 ],
 "metadata": {
  "kernelspec": {
   "display_name": "Python 3 (ipykernel)",
   "language": "python",
   "name": "python3"
  },
  "language_info": {
   "codemirror_mode": {
    "name": "ipython",
    "version": 3
   },
   "file_extension": ".py",
   "mimetype": "text/x-python",
   "name": "python",
   "nbconvert_exporter": "python",
   "pygments_lexer": "ipython3",
   "version": "3.10.7"
  }
 },
 "nbformat": 4,
 "nbformat_minor": 5
}
